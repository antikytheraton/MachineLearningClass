{
 "cells": [
  {
   "cell_type": "code",
   "execution_count": 10,
   "metadata": {
    "collapsed": false,
    "deletable": true,
    "editable": true
   },
   "outputs": [],
   "source": [
    "from sklearn.feature_extraction.text import TfidfVectorizer\n",
    "from sklearn.feature_selection import SelectPercentile, f_classif\n",
    "from sklearn import cross_validation\n",
    "from sklearn.externals import joblib\n",
    "from sklearn import svm\n",
    "from sklearn.metrics import accuracy_score\n",
    "import pandas as pd\n",
    "import os"
   ]
  },
  {
   "cell_type": "code",
   "execution_count": 11,
   "metadata": {
    "collapsed": true
   },
   "outputs": [],
   "source": [
    "def preprocess(X,y):\n",
    "    ### test_size is the percentage of events assigned to the test set\n",
    "    ### (remainder go into training)\n",
    "    features_train, features_test, labels_train, labels_test = cross_validation.train_test_split(X, y, test_size=0.2, random_state=42)\n",
    "\n",
    "\n",
    "   ### text vectorization--go from strings to lists of numbers\n",
    "    vectorizer = TfidfVectorizer(sublinear_tf=True, max_df=0.5,\n",
    "                                     stop_words='english')\n",
    "    features_train_transformed = vectorizer.fit_transform(features_train)\n",
    "    features_test_transformed  = vectorizer.transform(features_test)\n",
    "    joblib.dump(vectorizer, 'vectorizer.pkl')\n",
    "\n",
    "   ### feature selection, because text is super high dimensional and\n",
    "    ### can be really computationally chewy as a result\n",
    "    selector = SelectPercentile(f_classif, percentile=10)\n",
    "    selector.fit(features_train_transformed, labels_train)\n",
    "    joblib.dump(selector, 'selector.pkl')\n",
    "    features_train_transformed = selector.transform(features_train_transformed).toarray()\n",
    "    features_test_transformed  = selector.transform(features_test_transformed).toarray()\n",
    "    return features_train_transformed, features_test_transformed, labels_train, labels_test"
   ]
  },
  {
   "cell_type": "code",
   "execution_count": 7,
   "metadata": {
    "collapsed": false
   },
   "outputs": [],
   "source": [
    "clas=[]\n",
    "sent=[]\n",
    "for dataflie in os.listdir(\"data\"):\n",
    "    df=pd.read_csv(\"data/\"+i)\n",
    "    clas=clas+df['Id'].tolist()[1:]\n",
    "    sent=sent+df['Pregunta'].tolist()[1:]"
   ]
  },
  {
   "cell_type": "code",
   "execution_count": 9,
   "metadata": {
    "collapsed": false
   },
   "outputs": [
    {
     "data": {
      "text/plain": [
       "['¿donde se va a jugar el partido de los pumas?',\n",
       " '¿quien va ganando el partido de los pumas?',\n",
       " 'dame el marcador del partido de los pumas',\n",
       " '¿ya acabo el partido de los pumas?',\n",
       " 'Chatbot, cuál es el marcador del partido de las chivas',\n",
       " 'Chatbot, cómo van las chivas',\n",
       " 'Chatbot, cuál es el resultado del partido de las chivas',\n",
       " 'Chatbot, cómo va el partido de las chivas',\n",
       " 'Chatbot, quién va ganando en el partido de las chivas',\n",
       " 'Chatbot, como va el partido de chivas y toluca',\n",
       " 'Chatbot, quien gano el palrtido de atlas y guadalajara',\n",
       " 'Chatbot, a que hora será el partido de america contra unam',\n",
       " 'Chatbot, quien ganara el clásico de chivas america?',\n",
       " 'Chatbot, cual fue el marcador entre el pachuca y el toluca?',\n",
       " '¿quién está jugando?',\n",
       " '¿a que hora juega EQUIPO?',\n",
       " '¿Cual es el marcador de EQUIPO EQUIPO?',\n",
       " '¿quién ganó EQUIPO o EQUIPO?',\n",
       " '¿Cuándo juega EQUIPO contra EQUIPO?']"
      ]
     },
     "execution_count": 9,
     "metadata": {},
     "output_type": "execute_result"
    }
   ],
   "source": [
    "sent"
   ]
  },
  {
   "cell_type": "code",
   "execution_count": null,
   "metadata": {
    "collapsed": true
   },
   "outputs": [],
   "source": []
  }
 ],
 "metadata": {
  "kernelspec": {
   "display_name": "Python 3",
   "language": "python",
   "name": "python3"
  },
  "language_info": {
   "codemirror_mode": {
    "name": "ipython",
    "version": 3
   },
   "file_extension": ".py",
   "mimetype": "text/x-python",
   "name": "python",
   "nbconvert_exporter": "python",
   "pygments_lexer": "ipython3",
   "version": "3.5.2"
  }
 },
 "nbformat": 4,
 "nbformat_minor": 2
}

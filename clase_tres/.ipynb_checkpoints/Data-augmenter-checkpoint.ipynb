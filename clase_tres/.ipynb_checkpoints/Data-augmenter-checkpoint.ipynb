{
 "cells": [
  {
   "cell_type": "code",
   "execution_count": 1,
   "metadata": {
    "collapsed": false,
    "deletable": true,
    "editable": true
   },
   "outputs": [],
   "source": [
    "#load Data\n",
    "import pandas as pd\n",
    "#data2.csv has all the information\n",
    "df=pd.read_csv(\"./data-ner.csv\")\n",
    "tags=df['tag'].tolist()[1:]\n",
    "words=df['word'].tolist()[1:]\n",
    "colors=[\"azul\",\"rojo\",\"negro\",\"plata\",\"dorado\",\"oro\"]\n",
    "models=[\"versa\",\"spark\",\"civic\",\"tsuru\",\"fusion\",\"camaro\"]\n",
    "brands=[\"nissan\",\"ford\",\"mitsubishi\"]"
   ]
  },
  {
   "cell_type": "code",
   "execution_count": 2,
   "metadata": {
    "collapsed": true,
    "deletable": true,
    "editable": true
   },
   "outputs": [],
   "source": [
    "def replace_wd(stacktags,stackwords,replace_list,replace_w):\n",
    "    mayor_stacktags=[\"-\",\"-\",\"-\",\"-\"]\n",
    "    mayor_stackwords=[\"-\",\"-\",\"-\",\"-\"]\n",
    "    for element in replace_list:\n",
    "        stackwords[stacktags.index(replace_w)]=element\n",
    "        mayor_stacktags.append(stackwords+[\"-\",\"-\",\"-\",\"-\"])\n",
    "        mayor_stacktags.append(stackwords+[\"-\",\"-\",\"-\",\"-\"])\n",
    "    return mayor_stacktags,mayor_stackwords\n",
    "    "
   ]
  },
  {
   "cell_type": "code",
   "execution_count": 4,
   "metadata": {
    "collapsed": false,
    "deletable": true,
    "editable": true
   },
   "outputs": [
    {
     "ename": "TypeError",
     "evalue": "unorderable types: list() > int()",
     "output_type": "error",
     "traceback": [
      "\u001b[0;31m---------------------------------------------------------------------------\u001b[0m",
      "\u001b[0;31mTypeError\u001b[0m                                 Traceback (most recent call last)",
      "\u001b[0;32m<ipython-input-4-e89331d8e0e2>\u001b[0m in \u001b[0;36m<module>\u001b[0;34m()\u001b[0m\n\u001b[1;32m      5\u001b[0m \u001b[0;32mfor\u001b[0m \u001b[0mtag\u001b[0m\u001b[0;34m,\u001b[0m\u001b[0mword\u001b[0m \u001b[0;32min\u001b[0m \u001b[0mzip\u001b[0m\u001b[0;34m(\u001b[0m\u001b[0mtags\u001b[0m\u001b[0;34m,\u001b[0m\u001b[0mwords\u001b[0m\u001b[0;34m)\u001b[0m\u001b[0;34m:\u001b[0m\u001b[0;34m\u001b[0m\u001b[0m\n\u001b[1;32m      6\u001b[0m     \u001b[0;32mif\u001b[0m \u001b[0mtag\u001b[0m\u001b[0;34m==\u001b[0m\u001b[0;34m'-'\u001b[0m\u001b[0;34m:\u001b[0m\u001b[0;34m\u001b[0m\u001b[0m\n\u001b[0;32m----> 7\u001b[0;31m         \u001b[0;32mif\u001b[0m \u001b[0mlen\u001b[0m\u001b[0;34m(\u001b[0m\u001b[0mstacktags\u001b[0m\u001b[0;34m>\u001b[0m\u001b[0;36m0\u001b[0m\u001b[0;34m)\u001b[0m\u001b[0;34m:\u001b[0m\u001b[0;34m\u001b[0m\u001b[0m\n\u001b[0m\u001b[1;32m      8\u001b[0m             \u001b[0;32mif\u001b[0m \u001b[0;34m\"MODELO\"\u001b[0m \u001b[0;32min\u001b[0m \u001b[0mstacktags\u001b[0m\u001b[0;34m:\u001b[0m\u001b[0;34m\u001b[0m\u001b[0m\n\u001b[1;32m      9\u001b[0m                 \u001b[0mstacktags\u001b[0m\u001b[0;34m,\u001b[0m\u001b[0mstackwords\u001b[0m\u001b[0;34m=\u001b[0m\u001b[0mreplace_wd\u001b[0m\u001b[0;34m(\u001b[0m\u001b[0mstacktags\u001b[0m\u001b[0;34m,\u001b[0m\u001b[0mstackwords\u001b[0m\u001b[0;34m,\u001b[0m\u001b[0mmodels\u001b[0m\u001b[0;34m,\u001b[0m\u001b[0;34m\"MODELO\"\u001b[0m\u001b[0;34m)\u001b[0m\u001b[0;34m\u001b[0m\u001b[0m\n",
      "\u001b[0;31mTypeError\u001b[0m: unorderable types: list() > int()"
     ]
    }
   ],
   "source": [
    "endtags=[]\n",
    "endwords=[]\n",
    "stacktags=[]\n",
    "stackwords=[]\n",
    "for tag,word in zip(tags,words):\n",
    "    if tag=='-':\n",
    "        if len(stacktags>0):\n",
    "            if \"MODELO\" in stacktags:\n",
    "                stacktags,stackwords=replace_wd(\"MODELO\",stacktags,stackwords,models)\n",
    "            if \"MARCA\" in stacktags:\n",
    "                stacktags,stackwords=replace_wd(\"MARCA\",stacktags,stackwords,brands)\n",
    "            if \"COLOR\" in stacktags:\n",
    "                stacktags,stackwords=replace_wd(\"COLOR\",stacktags,stackwords,colors)\n",
    "            endtags.append(stacktags)\n",
    "            endwords.append(stackwords)  \n",
    "        stacktags=[]\n",
    "        stackwords=[]\n",
    "        endtags.append(\"-\")\n",
    "        endwords.append(\"-\")\n",
    "    else:\n",
    "        stacktags.append(tag)\n",
    "        stackwords.append(word)"
   ]
  },
  {
   "cell_type": "code",
   "execution_count": null,
   "metadata": {
    "collapsed": true,
    "deletable": true,
    "editable": true
   },
   "outputs": [],
   "source": []
  }
 ],
 "metadata": {
  "kernelspec": {
   "display_name": "Python 3",
   "language": "python",
   "name": "python3"
  },
  "language_info": {
   "codemirror_mode": {
    "name": "ipython",
    "version": 3
   },
   "file_extension": ".py",
   "mimetype": "text/x-python",
   "name": "python",
   "nbconvert_exporter": "python",
   "pygments_lexer": "ipython3",
   "version": "3.5.2"
  }
 },
 "nbformat": 4,
 "nbformat_minor": 2
}

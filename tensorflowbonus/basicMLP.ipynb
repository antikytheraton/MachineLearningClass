{
 "cells": [
  {
   "cell_type": "code",
   "execution_count": 1,
   "metadata": {
    "collapsed": false
   },
   "outputs": [
    {
     "name": "stdout",
     "output_type": "stream",
     "text": [
      "[[ 0.  0.  0. ...,  0.  0.  0.]\n",
      " [ 0.  0.  0. ...,  0.  0.  0.]\n",
      " [ 0.  0.  0. ...,  0.  0.  0.]\n",
      " ..., \n",
      " [ 0.  0.  0. ...,  0.  0.  0.]\n",
      " [ 0.  0.  0. ...,  0.  0.  0.]\n",
      " [ 0.  0.  0. ...,  0.  0.  0.]]\n",
      "2790\n"
     ]
    },
    {
     "name": "stderr",
     "output_type": "stream",
     "text": [
      "/usr/local/lib/python3.5/dist-packages/sklearn/cross_validation.py:44: DeprecationWarning: This module was deprecated in version 0.18 in favor of the model_selection module into which all the refactored classes and functions are moved. Also note that the interface of the new CV iterators are different from that of this module. This module will be removed in 0.20.\n",
      "  \"This module will be removed in 0.20.\", DeprecationWarning)\n"
     ]
    }
   ],
   "source": [
    "import tensorflow as tf\n",
    "import numpy as np\n",
    "from sklearn import cross_validation\n",
    "\n",
    "data = np.load('data/data_with_labels.npz')\n",
    "train = data['arr_0']/255.\n",
    "labels = data['arr_1']\n",
    "print(train[0])\n",
    "print(len(labels))"
   ]
  },
  {
   "cell_type": "code",
   "execution_count": 2,
   "metadata": {
    "collapsed": true
   },
   "outputs": [],
   "source": [
    "def to_onehot(labels,nclasses = 5):\n",
    "    '''\n",
    "    Convert labels to \"one-hot\" format.\n",
    "    >>> a = [0,1,2,3]\n",
    "    >>> to_onehot(a,5)\n",
    "    array([[ 1.,  0.,  0.,  0.,  0.],\n",
    "           [ 0.,  1.,  0.,  0.,  0.],\n",
    "           [ 0.,  0.,  1.,  0.,  0.],\n",
    "           [ 0.,  0.,  0.,  1.,  0.]])\n",
    "    '''\n",
    "    outlabels = np.zeros((len(labels),nclasses))\n",
    "    for i,l in enumerate(labels):\n",
    "        outlabels[i,l] = 1\n",
    "    return outlabels\n"
   ]
  },
  {
   "cell_type": "code",
   "execution_count": 3,
   "metadata": {
    "collapsed": true
   },
   "outputs": [],
   "source": [
    "labels = to_onehot(labels)\n",
    "features_train, features_test, labels_train, labels_test = \\\n",
    "    cross_validation.train_test_split(train, labels, test_size=0.2, random_state=42)\n",
    "sess = tf.InteractiveSession()"
   ]
  },
  {
   "cell_type": "code",
   "execution_count": 4,
   "metadata": {
    "collapsed": false
   },
   "outputs": [
    {
     "data": {
      "text/plain": [
       "(36, 36)"
      ]
     },
     "execution_count": 4,
     "metadata": {},
     "output_type": "execute_result"
    }
   ],
   "source": [
    "features_train[0].shape"
   ]
  },
  {
   "cell_type": "code",
   "execution_count": 5,
   "metadata": {
    "collapsed": false
   },
   "outputs": [],
   "source": [
    "#rquitectura de red\n",
    "#Entradas y salidas\n",
    "x = tf.placeholder(\"float\",[None,1296])\n",
    "y_= tf.placeholder(\"float\",[None,5])\n",
    "\n",
    "#primera capa\n",
    "# Hidden layer 1\n",
    "num_hidden1 = 128\n",
    "W1 = tf.Variable(tf.truncated_normal([1296,num_hidden1]))\n",
    "b1 = tf.Variable(tf.constant(0.1,shape=[num_hidden1]))\n",
    "h1 = tf.sigmoid(tf.matmul(x,W1) + b1)\n",
    "\n",
    "# Hidden Layer 2\n",
    "num_hidden2 = 64\n",
    "W2 = tf.Variable(tf.truncated_normal([num_hidden1,\n",
    "            num_hidden2]))\n",
    "b2 = tf.Variable(tf.constant(0.2,shape=[num_hidden2]))\n",
    "h2 = tf.sigmoid(tf.matmul(h1,W2) + b2)\n",
    "\n",
    "#Output layer\n",
    "# Output Layer\n",
    "W4 = tf.Variable(tf.truncated_normal([num_hidden2,5]))\n",
    "b4 = tf.Variable(tf.constant(0.1,shape=[5]))\n",
    "#Softmax\n",
    "y = tf.nn.softmax(tf.matmul(h2,W4) + b4)#En tensor viejo"
   ]
  },
  {
   "cell_type": "code",
   "execution_count": 6,
   "metadata": {
    "collapsed": false
   },
   "outputs": [],
   "source": [
    "#optimización con cross validation y gradient descent\n",
    "cross_entropy = tf.reduce_mean(\n",
    "     tf.nn.softmax_cross_entropy_with_logits(logits=y + 1e-50,labels= y_))\n",
    "train_step = tf.train.GradientDescentOptimizer(0.3).minimize(cross_entropy)"
   ]
  },
  {
   "cell_type": "code",
   "execution_count": 7,
   "metadata": {
    "collapsed": true
   },
   "outputs": [],
   "source": [
    "# Define accuracy\n",
    "correct_prediction = tf.equal(tf.argmax(y,1),tf.argmax(y_,1))\n",
    "accuracy=tf.reduce_mean(tf.cast(correct_prediction, \"float\"))"
   ]
  },
  {
   "cell_type": "code",
   "execution_count": 8,
   "metadata": {
    "collapsed": false
   },
   "outputs": [
    {
     "name": "stdout",
     "output_type": "stream",
     "text": [
      "Epoca: 0valor0.148746\n",
      "Epoca: 10valor0.15233\n",
      "Epoca: 20valor0.16129\n",
      "Epoca: 30valor0.168459\n",
      "Epoca: 40valor0.168459\n",
      "Epoca: 50valor0.168459\n",
      "Epoca: 60valor0.172043\n",
      "Epoca: 70valor0.181004\n",
      "Epoca: 80valor0.184588\n",
      "Epoca: 90valor0.188172\n",
      "Epoca: 100valor0.191756\n",
      "Epoca: 110valor0.198925\n",
      "Epoca: 120valor0.198925\n",
      "Epoca: 130valor0.202509\n",
      "Epoca: 140valor0.207885\n",
      "Epoca: 150valor0.209677\n",
      "Epoca: 160valor0.216846\n",
      "Epoca: 170valor0.222222\n",
      "Epoca: 180valor0.227599\n",
      "Epoca: 190valor0.224014\n",
      "Epoca: 200valor0.227599\n",
      "Epoca: 210valor0.229391\n",
      "Epoca: 220valor0.227599\n",
      "Epoca: 230valor0.232975\n",
      "Epoca: 240valor0.240143\n",
      "Epoca: 250valor0.241935\n",
      "Epoca: 260valor0.247312\n",
      "Epoca: 270valor0.252688\n",
      "Epoca: 280valor0.258065\n",
      "Epoca: 290valor0.263441\n",
      "Epoca: 300valor0.268817\n",
      "Epoca: 310valor0.270609\n",
      "Epoca: 320valor0.274194\n",
      "Epoca: 330valor0.275986\n",
      "Epoca: 340valor0.283154\n",
      "Epoca: 350valor0.290323\n",
      "Epoca: 360valor0.292115\n",
      "Epoca: 370valor0.302867\n",
      "Epoca: 380valor0.301075\n",
      "Epoca: 390valor0.304659\n",
      "Epoca: 400valor0.302867\n",
      "Epoca: 410valor0.304659\n",
      "Epoca: 420valor0.31362\n",
      "Epoca: 430valor0.317204\n",
      "Epoca: 440valor0.322581\n",
      "Epoca: 450valor0.327957\n",
      "Epoca: 460valor0.327957\n",
      "Epoca: 470valor0.331541\n",
      "Epoca: 480valor0.327957\n",
      "Epoca: 490valor0.329749\n",
      "Epoca: 500valor0.331541\n",
      "Epoca: 510valor0.335125\n",
      "Epoca: 520valor0.340502\n",
      "Epoca: 530valor0.344086\n",
      "Epoca: 540valor0.345878\n",
      "Epoca: 550valor0.349462\n",
      "Epoca: 560valor0.349462\n",
      "Epoca: 570valor0.351254\n",
      "Epoca: 580valor0.356631\n",
      "Epoca: 590valor0.362007\n",
      "Epoca: 600valor0.363799\n",
      "Epoca: 610valor0.365591\n",
      "Epoca: 620valor0.367384\n",
      "Epoca: 630valor0.369176\n",
      "Epoca: 640valor0.376344\n",
      "Epoca: 650valor0.376344\n",
      "Epoca: 660valor0.379928\n",
      "Epoca: 670valor0.38172\n",
      "Epoca: 680valor0.38172\n",
      "Epoca: 690valor0.38172\n",
      "Epoca: 700valor0.38172\n",
      "Epoca: 710valor0.385305\n",
      "Epoca: 720valor0.387097\n",
      "Epoca: 730valor0.392473\n",
      "Epoca: 740valor0.396057\n",
      "Epoca: 750valor0.399642\n",
      "Epoca: 760valor0.403226\n",
      "Epoca: 770valor0.408602\n",
      "Epoca: 780valor0.412186\n",
      "Epoca: 790valor0.410394\n",
      "Epoca: 800valor0.415771\n",
      "Epoca: 810valor0.415771\n",
      "Epoca: 820valor0.417563\n",
      "Epoca: 830valor0.419355\n",
      "Epoca: 840valor0.419355\n",
      "Epoca: 850valor0.421147\n",
      "Epoca: 860valor0.421147\n",
      "Epoca: 870valor0.424731\n",
      "Epoca: 880valor0.424731\n",
      "Epoca: 890valor0.426523\n",
      "Epoca: 900valor0.428315\n",
      "Epoca: 910valor0.430108\n",
      "Epoca: 920valor0.435484\n",
      "Epoca: 930valor0.437276\n",
      "Epoca: 940valor0.439068\n",
      "Epoca: 950valor0.442652\n",
      "Epoca: 960valor0.446237\n",
      "Epoca: 970valor0.448029\n",
      "Epoca: 980valor0.449821\n",
      "Epoca: 990valor0.451613\n",
      "Epoca: 1000valor0.451613\n",
      "Epoca: 1010valor0.453405\n",
      "Epoca: 1020valor0.453405\n",
      "Epoca: 1030valor0.456989\n",
      "Epoca: 1040valor0.456989\n",
      "Epoca: 1050valor0.455197\n",
      "Epoca: 1060valor0.455197\n",
      "Epoca: 1070valor0.456989\n",
      "Epoca: 1080valor0.460573\n",
      "Epoca: 1090valor0.458781\n",
      "Epoca: 1100valor0.458781\n",
      "Epoca: 1110valor0.460573\n",
      "Epoca: 1120valor0.460573\n",
      "Epoca: 1130valor0.460573\n",
      "Epoca: 1140valor0.462366\n",
      "Epoca: 1150valor0.462366\n",
      "Epoca: 1160valor0.462366\n",
      "Epoca: 1170valor0.462366\n",
      "Epoca: 1180valor0.464158\n",
      "Epoca: 1190valor0.46595\n",
      "Epoca: 1200valor0.46595\n",
      "Epoca: 1210valor0.46595\n",
      "Epoca: 1220valor0.467742\n",
      "Epoca: 1230valor0.467742\n",
      "Epoca: 1240valor0.46595\n",
      "Epoca: 1250valor0.467742\n",
      "Epoca: 1260valor0.469534\n",
      "Epoca: 1270valor0.471326\n",
      "Epoca: 1280valor0.469534\n",
      "Epoca: 1290valor0.471326\n",
      "Epoca: 1300valor0.471326\n",
      "Epoca: 1310valor0.471326\n",
      "Epoca: 1320valor0.469534\n",
      "Epoca: 1330valor0.471326\n",
      "Epoca: 1340valor0.471326\n",
      "Epoca: 1350valor0.469534\n",
      "Epoca: 1360valor0.469534\n",
      "Epoca: 1370valor0.469534\n",
      "Epoca: 1380valor0.469534\n",
      "Epoca: 1390valor0.471326\n",
      "Epoca: 1400valor0.471326\n",
      "Epoca: 1410valor0.471326\n",
      "Epoca: 1420valor0.473118\n",
      "Epoca: 1430valor0.473118\n",
      "Epoca: 1440valor0.473118\n",
      "Epoca: 1450valor0.473118\n",
      "Epoca: 1460valor0.473118\n",
      "Epoca: 1470valor0.47491\n",
      "Epoca: 1480valor0.47491\n",
      "Epoca: 1490valor0.476703\n",
      "Epoca: 1500valor0.476703\n",
      "Epoca: 1510valor0.476703\n",
      "Epoca: 1520valor0.47491\n",
      "Epoca: 1530valor0.478495\n",
      "Epoca: 1540valor0.478495\n",
      "Epoca: 1550valor0.478495\n",
      "Epoca: 1560valor0.478495\n",
      "Epoca: 1570valor0.478495\n",
      "Epoca: 1580valor0.478495\n",
      "Epoca: 1590valor0.478495\n",
      "Epoca: 1600valor0.480287\n",
      "Epoca: 1610valor0.482079\n",
      "Epoca: 1620valor0.482079\n",
      "Epoca: 1630valor0.483871\n",
      "Epoca: 1640valor0.483871\n",
      "Epoca: 1650valor0.483871\n",
      "Epoca: 1660valor0.483871\n",
      "Epoca: 1670valor0.483871\n",
      "Epoca: 1680valor0.483871\n",
      "Epoca: 1690valor0.483871\n",
      "Epoca: 1700valor0.483871\n",
      "Epoca: 1710valor0.485663\n",
      "Epoca: 1720valor0.485663\n",
      "Epoca: 1730valor0.485663\n",
      "Epoca: 1740valor0.487455\n",
      "Epoca: 1750valor0.487455\n",
      "Epoca: 1760valor0.491039\n",
      "Epoca: 1770valor0.491039\n",
      "Epoca: 1780valor0.491039\n",
      "Epoca: 1790valor0.491039\n",
      "Epoca: 1800valor0.492832\n",
      "Epoca: 1810valor0.492832\n",
      "Epoca: 1820valor0.492832\n",
      "Epoca: 1830valor0.492832\n",
      "Epoca: 1840valor0.492832\n",
      "Epoca: 1850valor0.492832\n",
      "Epoca: 1860valor0.494624\n",
      "Epoca: 1870valor0.492832\n",
      "Epoca: 1880valor0.494624\n",
      "Epoca: 1890valor0.496416\n",
      "Epoca: 1900valor0.496416\n",
      "Epoca: 1910valor0.498208\n",
      "Epoca: 1920valor0.498208\n",
      "Epoca: 1930valor0.5\n",
      "Epoca: 1940valor0.5\n",
      "Epoca: 1950valor0.498208\n",
      "Epoca: 1960valor0.498208\n",
      "Epoca: 1970valor0.496416\n",
      "Epoca: 1980valor0.496416\n",
      "Epoca: 1990valor0.5\n",
      "Epoca: 2000valor0.5\n",
      "Epoca: 2010valor0.5\n",
      "Epoca: 2020valor0.5\n",
      "Epoca: 2030valor0.505376\n",
      "Epoca: 2040valor0.505376\n",
      "Epoca: 2050valor0.505376\n",
      "Epoca: 2060valor0.503584\n",
      "Epoca: 2070valor0.501792\n",
      "Epoca: 2080valor0.501792\n",
      "Epoca: 2090valor0.503584\n",
      "Epoca: 2100valor0.503584\n",
      "Epoca: 2110valor0.505376\n",
      "Epoca: 2120valor0.505376\n",
      "Epoca: 2130valor0.503584\n",
      "Epoca: 2140valor0.507168\n",
      "Epoca: 2150valor0.507168\n",
      "Epoca: 2160valor0.508961\n",
      "Epoca: 2170valor0.510753\n",
      "Epoca: 2180valor0.512545\n",
      "Epoca: 2190valor0.512545\n",
      "Epoca: 2200valor0.510753\n",
      "Epoca: 2210valor0.512545\n",
      "Epoca: 2220valor0.512545\n",
      "Epoca: 2230valor0.512545\n",
      "Epoca: 2240valor0.512545\n",
      "Epoca: 2250valor0.512545\n",
      "Epoca: 2260valor0.512545\n",
      "Epoca: 2270valor0.514337\n",
      "Epoca: 2280valor0.516129\n",
      "Epoca: 2290valor0.517921\n",
      "Epoca: 2300valor0.516129\n",
      "Epoca: 2310valor0.516129\n",
      "Epoca: 2320valor0.516129\n",
      "Epoca: 2330valor0.516129\n",
      "Epoca: 2340valor0.519713\n",
      "Epoca: 2350valor0.519713\n",
      "Epoca: 2360valor0.521505\n",
      "Epoca: 2370valor0.521505\n",
      "Epoca: 2380valor0.519713\n",
      "Epoca: 2390valor0.519713\n",
      "Epoca: 2400valor0.519713\n",
      "Epoca: 2410valor0.519713\n",
      "Epoca: 2420valor0.519713\n",
      "Epoca: 2430valor0.523297\n",
      "Epoca: 2440valor0.523297\n",
      "Epoca: 2450valor0.52509\n",
      "Epoca: 2460valor0.52509\n",
      "Epoca: 2470valor0.52509\n",
      "Epoca: 2480valor0.52509\n",
      "Epoca: 2490valor0.52509\n"
     ]
    }
   ],
   "source": [
    "sess.run(tf.global_variables_initializer())\n",
    "epochs = 2500\n",
    "train_acc = np.zeros(epochs//10)\n",
    "test_acc = np.zeros(epochs//10)\n",
    "for i in range(epochs):\n",
    "    if i % 10 == 0:  # Record summary data, and the accuracy\n",
    "        # Check accuracy on train set\n",
    "        A = accuracy.eval(feed_dict={x: features_train.reshape([-1,1296]), y_: labels_train})\n",
    "        train_acc[i//10] = A\n",
    "\n",
    "        # And now the validation set\n",
    "        A = accuracy.eval(feed_dict={x: features_test.reshape([-1,1296]), y_: labels_test})\n",
    "        test_acc[i//10] = A\n",
    "        print(\"Epoca: \"+str(i)+\"valor\"+str(A))])\n",
    "    train_step.run(feed_dict={x: features_train.reshape([-1,1296]), y_: labels_train})"
   ]
  },
  {
   "cell_type": "code",
   "execution_count": 9,
   "metadata": {
    "collapsed": false
   },
   "outputs": [
    {
     "data": {
      "text/plain": [
       "[<matplotlib.lines.Line2D at 0x7f59bb643978>]"
      ]
     },
     "execution_count": 9,
     "metadata": {},
     "output_type": "execute_result"
    },
    {
     "data": {
      "image/png": "[encoded data removed]",
      "text/plain": [
       "<matplotlib.figure.Figure at 0x7f59bb643048>"
      ]
     },
     "metadata": {},
     "output_type": "display_data"
    }
   ],
   "source": [
    "# If you have matplotlib installed\n",
    "import matplotlib.pyplot as plt\n",
    "plt.ion()\n",
    "plt.plot(train_acc,'bo')\n",
    "plt.plot(test_acc,'rx')"
   ]
  },
  {
   "cell_type": "code",
   "execution_count": 10,
   "metadata": {
    "collapsed": false
   },
   "outputs": [
    {
     "data": {
      "text/plain": [
       "0.72580647468566895"
      ]
     },
     "execution_count": 10,
     "metadata": {},
     "output_type": "execute_result"
    }
   ],
   "source": [
    "train_acc[-1]"
   ]
  },
  {
   "cell_type": "code",
   "execution_count": 11,
   "metadata": {
    "collapsed": false
   },
   "outputs": [
    {
     "name": "stdout",
     "output_type": "stream",
     "text": [
      "INFO:tensorflow:Restoring parameters from mlp.ckpt\n"
     ]
    }
   ],
   "source": [
    "# Save the weights\n",
    "saver = tf.train.Saver()\n",
    "saver.save(sess, \"mlp.ckpt\")\n",
    "\n",
    "# Restore\n",
    "saver.restore(sess, \"mlp.ckpt\")\n",
    "\n"
   ]
  },
  {
   "cell_type": "code",
   "execution_count": null,
   "metadata": {
    "collapsed": true
   },
   "outputs": [],
   "source": []
  }
 ],
 "metadata": {
  "kernelspec": {
   "display_name": "Python 3",
   "language": "python",
   "name": "python3"
  },
  "language_info": {
   "codemirror_mode": {
    "name": "ipython",
    "version": 3
   },
   "file_extension": ".py",
   "mimetype": "text/x-python",
   "name": "python",
   "nbconvert_exporter": "python",
   "pygments_lexer": "ipython3",
   "version": "3.5.2"
  }
 },
 "nbformat": 4,
 "nbformat_minor": 2
}

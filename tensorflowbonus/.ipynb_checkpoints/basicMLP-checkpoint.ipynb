{
 "cells": [
  {
   "cell_type": "code",
   "execution_count": 1,
   "metadata": {
    "collapsed": false
   },
   "outputs": [
    {
     "name": "stdout",
     "output_type": "stream",
     "text": [
      "[[ 0.  0.  0. ...,  0.  0.  0.]\n",
      " [ 0.  0.  0. ...,  0.  0.  0.]\n",
      " [ 0.  0.  0. ...,  0.  0.  0.]\n",
      " ..., \n",
      " [ 0.  0.  0. ...,  0.  0.  0.]\n",
      " [ 0.  0.  0. ...,  0.  0.  0.]\n",
      " [ 0.  0.  0. ...,  0.  0.  0.]]\n",
      "2790\n"
     ]
    },
    {
     "name": "stderr",
     "output_type": "stream",
     "text": [
      "/usr/local/lib/python3.5/dist-packages/sklearn/cross_validation.py:44: DeprecationWarning: This module was deprecated in version 0.18 in favor of the model_selection module into which all the refactored classes and functions are moved. Also note that the interface of the new CV iterators are different from that of this module. This module will be removed in 0.20.\n",
      "  \"This module will be removed in 0.20.\", DeprecationWarning)\n"
     ]
    }
   ],
   "source": [
    "import tensorflow as tf\n",
    "import numpy as np\n",
    "from sklearn import cross_validation\n",
    "\n",
    "data = np.load('data/data_with_labels.npz')\n",
    "train = data['arr_0']/255.\n",
    "labels = data['arr_1']\n",
    "print(train[0])\n",
    "print(len(labels))"
   ]
  },
  {
   "cell_type": "code",
   "execution_count": 2,
   "metadata": {
    "collapsed": true
   },
   "outputs": [],
   "source": [
    "def to_onehot(labels,nclasses = 5):\n",
    "    '''\n",
    "    Convert labels to \"one-hot\" format.\n",
    "    >>> a = [0,1,2,3]\n",
    "    >>> to_onehot(a,5)\n",
    "    array([[ 1.,  0.,  0.,  0.,  0.],\n",
    "           [ 0.,  1.,  0.,  0.,  0.],\n",
    "           [ 0.,  0.,  1.,  0.,  0.],\n",
    "           [ 0.,  0.,  0.,  1.,  0.]])\n",
    "    '''\n",
    "    outlabels = np.zeros((len(labels),nclasses))\n",
    "    for i,l in enumerate(labels):\n",
    "        outlabels[i,l] = 1\n",
    "    return outlabels\n"
   ]
  },
  {
   "cell_type": "code",
   "execution_count": 3,
   "metadata": {
    "collapsed": true
   },
   "outputs": [],
   "source": [
    "labels = to_onehot(labels)\n",
    "features_train, features_test, labels_train, labels_test = \\\n",
    "    cross_validation.train_test_split(train, labels, test_size=0.2, random_state=42)\n",
    "sess = tf.InteractiveSession()"
   ]
  },
  {
   "cell_type": "code",
   "execution_count": 4,
   "metadata": {
    "collapsed": false
   },
   "outputs": [
    {
     "data": {
      "text/plain": [
       "(36, 36)"
      ]
     },
     "execution_count": 4,
     "metadata": {},
     "output_type": "execute_result"
    }
   ],
   "source": [
    "features_train[0].shape"
   ]
  },
  {
   "cell_type": "code",
   "execution_count": 7,
   "metadata": {
    "collapsed": false
   },
   "outputs": [],
   "source": [
    "#rquitectura de red\n",
    "#Entradas y salidas\n",
    "x = tf.placeholder(\"float\",[None,1296])\n",
    "y_= tf.placeholder(\"float\",[None,5])\n",
    "\n",
    "#primera capa\n",
    "# Hidden layer 1\n",
    "num_hidden1 = 128\n",
    "W1 = tf.Variable(tf.truncated_normal([1296,num_hidden1]))\n",
    "b1 = tf.Variable(tf.constant(0.1,shape=[num_hidden1]))\n",
    "h1 = tf.sigmoid(tf.matmul(x,W1) + b1)\n",
    "\n",
    "# Hidden Layer 2\n",
    "num_hidden2 = 64\n",
    "W2 = tf.Variable(tf.truncated_normal([num_hidden1,\n",
    "            num_hidden2]))\n",
    "b2 = tf.Variable(tf.constant(0.2,shape=[num_hidden2]))\n",
    "h2 = tf.sigmoid(tf.matmul(h1,W2) + b2)\n",
    "\n",
    "#Output layer\n",
    "# Output Layer\n",
    "W4 = tf.Variable(tf.truncated_normal([num_hidden2,5]))\n",
    "b4 = tf.Variable(tf.constant(0.1,shape=[5]))\n",
    "#Softmax\n",
    "y = tf.nn.softmax(tf.matmul(h2,W4) + b4)#En tensor viejo"
   ]
  },
  {
   "cell_type": "code",
   "execution_count": 8,
   "metadata": {
    "collapsed": false
   },
   "outputs": [],
   "source": [
    "#optimización con cross validation y gradient descent\n",
    "cross_entropy = tf.reduce_mean(\n",
    "     tf.nn.softmax_cross_entropy_with_logits(logits=y + 1e-50,labels= y_))\n",
    "train_step = tf.train.GradientDescentOptimizer(0.1).minimize(cross_entropy)"
   ]
  },
  {
   "cell_type": "code",
   "execution_count": 9,
   "metadata": {
    "collapsed": true
   },
   "outputs": [],
   "source": [
    "# Define accuracy\n",
    "correct_prediction = tf.equal(tf.argmax(y,1),tf.argmax(y_,1))\n",
    "accuracy=tf.reduce_mean(tf.cast(correct_prediction, \"float\"))"
   ]
  },
  {
   "cell_type": "code",
   "execution_count": 10,
   "metadata": {
    "collapsed": false
   },
   "outputs": [
    {
     "name": "stdout",
     "output_type": "stream",
     "text": [
      "0.200717\n",
      "0.198925\n",
      "0.207885\n",
      "0.209677\n",
      "0.216846\n",
      "0.218638\n",
      "0.213262\n",
      "0.215054\n",
      "0.218638\n",
      "0.222222\n",
      "0.227599\n",
      "0.229391\n",
      "0.229391\n",
      "0.229391\n",
      "0.231183\n",
      "0.238351\n",
      "0.240143\n",
      "0.243728\n",
      "0.243728\n",
      "0.241935\n",
      "0.241935\n",
      "0.241935\n",
      "0.240143\n",
      "0.240143\n",
      "0.241935\n",
      "0.241935\n",
      "0.241935\n",
      "0.241935\n",
      "0.241935\n",
      "0.241935\n",
      "0.241935\n",
      "0.241935\n",
      "0.241935\n",
      "0.241935\n",
      "0.241935\n",
      "0.241935\n",
      "0.241935\n",
      "0.241935\n",
      "0.243728\n",
      "0.24552\n",
      "0.24552\n",
      "0.247312\n",
      "0.247312\n",
      "0.250896\n",
      "0.250896\n",
      "0.250896\n",
      "0.250896\n",
      "0.249104\n",
      "0.249104\n",
      "0.249104\n",
      "0.250896\n",
      "0.250896\n",
      "0.250896\n",
      "0.250896\n",
      "0.249104\n",
      "0.249104\n",
      "0.249104\n",
      "0.250896\n",
      "0.250896\n",
      "0.250896\n",
      "0.252688\n",
      "0.250896\n",
      "0.252688\n",
      "0.25448\n",
      "0.25448\n",
      "0.256272\n",
      "0.256272\n",
      "0.258065\n",
      "0.258065\n",
      "0.258065\n",
      "0.258065\n",
      "0.258065\n",
      "0.258065\n",
      "0.258065\n",
      "0.258065\n",
      "0.259857\n",
      "0.259857\n",
      "0.259857\n",
      "0.261649\n",
      "0.259857\n",
      "0.261649\n",
      "0.261649\n",
      "0.263441\n",
      "0.263441\n",
      "0.263441\n",
      "0.263441\n",
      "0.265233\n",
      "0.265233\n",
      "0.265233\n",
      "0.265233\n",
      "0.263441\n",
      "0.263441\n",
      "0.263441\n",
      "0.261649\n",
      "0.261649\n",
      "0.261649\n",
      "0.261649\n",
      "0.261649\n",
      "0.265233\n",
      "0.263441\n",
      "0.263441\n",
      "0.265233\n",
      "0.265233\n",
      "0.267025\n",
      "0.267025\n",
      "0.267025\n",
      "0.268817\n",
      "0.268817\n",
      "0.268817\n",
      "0.268817\n",
      "0.268817\n",
      "0.270609\n",
      "0.274194\n",
      "0.274194\n",
      "0.275986\n",
      "0.275986\n",
      "0.275986\n",
      "0.274194\n",
      "0.274194\n",
      "0.274194\n",
      "0.275986\n",
      "0.275986\n",
      "0.275986\n",
      "0.275986\n",
      "0.275986\n",
      "0.275986\n",
      "0.277778\n",
      "0.27957\n",
      "0.281362\n",
      "0.281362\n",
      "0.281362\n",
      "0.281362\n",
      "0.281362\n",
      "0.281362\n",
      "0.283154\n",
      "0.283154\n",
      "0.283154\n",
      "0.284946\n",
      "0.284946\n",
      "0.284946\n",
      "0.284946\n",
      "0.284946\n",
      "0.284946\n",
      "0.284946\n",
      "0.284946\n",
      "0.284946\n",
      "0.284946\n",
      "0.284946\n",
      "0.284946\n",
      "0.284946\n",
      "0.284946\n",
      "0.284946\n",
      "0.284946\n",
      "0.284946\n",
      "0.284946\n",
      "0.28853\n",
      "0.28853\n",
      "0.28853\n",
      "0.28853\n",
      "0.286738\n",
      "0.286738\n",
      "0.286738\n",
      "0.286738\n",
      "0.28853\n",
      "0.28853\n",
      "0.28853\n",
      "0.28853\n",
      "0.28853\n",
      "0.28853\n",
      "0.28853\n",
      "0.28853\n",
      "0.28853\n",
      "0.290323\n",
      "0.290323\n",
      "0.290323\n",
      "0.290323\n",
      "0.290323\n",
      "0.290323\n",
      "0.290323\n",
      "0.290323\n",
      "0.290323\n",
      "0.290323\n",
      "0.290323\n",
      "0.290323\n",
      "0.290323\n",
      "0.290323\n",
      "0.293907\n",
      "0.295699\n",
      "0.295699\n",
      "0.297491\n",
      "0.297491\n",
      "0.297491\n",
      "0.297491\n",
      "0.297491\n",
      "0.297491\n",
      "0.297491\n",
      "0.297491\n",
      "0.297491\n",
      "0.297491\n",
      "0.297491\n",
      "0.297491\n",
      "0.297491\n",
      "0.297491\n",
      "0.297491\n",
      "0.297491\n",
      "0.297491\n",
      "0.297491\n",
      "0.297491\n",
      "0.297491\n",
      "0.299283\n",
      "0.299283\n",
      "0.299283\n",
      "0.299283\n",
      "0.301075\n",
      "0.301075\n",
      "0.301075\n",
      "0.301075\n",
      "0.301075\n",
      "0.301075\n",
      "0.301075\n",
      "0.301075\n",
      "0.301075\n",
      "0.301075\n",
      "0.301075\n",
      "0.301075\n",
      "0.301075\n",
      "0.301075\n",
      "0.301075\n",
      "0.301075\n",
      "0.301075\n",
      "0.301075\n",
      "0.302867\n",
      "0.302867\n",
      "0.302867\n",
      "0.302867\n",
      "0.302867\n",
      "0.302867\n",
      "0.301075\n",
      "0.301075\n",
      "0.301075\n",
      "0.301075\n",
      "0.299283\n",
      "0.299283\n",
      "0.299283\n",
      "0.301075\n",
      "0.301075\n",
      "0.301075\n",
      "0.301075\n",
      "0.301075\n",
      "0.301075\n"
     ]
    }
   ],
   "source": [
    "sess.run(tf.global_variables_initializer())\n",
    "epochs = 25000\n",
    "train_acc = np.zeros(epochs//10)\n",
    "test_acc = np.zeros(epochs//10)\n",
    "for i in range(epochs):\n",
    "    if i % 10 == 0:  # Record summary data, and the accuracy\n",
    "        # Check accuracy on train set\n",
    "        A = accuracy.eval(feed_dict={x: features_train.reshape([-1,1296]), y_: labels_train})\n",
    "        train_acc[i//10] = A\n",
    "\n",
    "        # And now the validation set\n",
    "        A = accuracy.eval(feed_dict={x: features_test.reshape([-1,1296]), y_: labels_test})\n",
    "        test_acc[i//10] = A\n",
    "        print(A)\n",
    "    train_step.run(feed_dict={x: features_train.reshape([-1,1296]), y_: labels_train})"
   ]
  },
  {
   "cell_type": "code",
   "execution_count": null,
   "metadata": {
    "collapsed": false
   },
   "outputs": [],
   "source": [
    "# If you have matplotlib installed\n",
    "import matplotlib.pyplot as plt\n",
    "plt.ion()\n",
    "plt.plot(train_acc,'bo')\n",
    "plt.plot(test_acc,'rx')"
   ]
  },
  {
   "cell_type": "code",
   "execution_count": null,
   "metadata": {
    "collapsed": false
   },
   "outputs": [],
   "source": [
    "train_acc[-1]"
   ]
  },
  {
   "cell_type": "code",
   "execution_count": null,
   "metadata": {
    "collapsed": true
   },
   "outputs": [],
   "source": []
  }
 ],
 "metadata": {
  "kernelspec": {
   "display_name": "Python 3",
   "language": "python",
   "name": "python3"
  },
  "language_info": {
   "codemirror_mode": {
    "name": "ipython",
    "version": 3
   },
   "file_extension": ".py",
   "mimetype": "text/x-python",
   "name": "python",
   "nbconvert_exporter": "python",
   "pygments_lexer": "ipython3",
   "version": "3.5.2"
  }
 },
 "nbformat": 4,
 "nbformat_minor": 2
}

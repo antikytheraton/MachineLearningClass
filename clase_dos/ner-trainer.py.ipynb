{
 "cells": [
  {
   "cell_type": "code",
   "execution_count": 5,
   "metadata": {
    "collapsed": false
   },
   "outputs": [],
   "source": [
    "#load Data\n",
    "import pandas as pd\n",
    "#data2.csv has all the information\n",
    "df=pd.read_csv(\"./data2.csv\")\n",
    "tags=df['tag'].tolist()[1:]\n",
    "words=df['word'].tolist()[1:]"
   ]
  },
  {
   "cell_type": "code",
   "execution_count": 13,
   "metadata": {
    "collapsed": false
   },
   "outputs": [],
   "source": [
    "def prepara_frase(tags,words):\n",
    "    features=[]\n",
    "    feature={}\n",
    "    targets=[]\n",
    "    for ind,tag in enumerate(tags):\n",
    "        if tag!='-':\n",
    "            feature['0']=words[ind-2]\n",
    "            feature['1']=words[ind-1]\n",
    "            feature['2']=words[ind]\n",
    "            feature['3']=words[ind+1]\n",
    "            feature['4']=words[ind+2]\n",
    "            features.append(feature)\n",
    "            #print feature\n",
    "            feature={}\n",
    "            #if vector[0]!='af':\n",
    "            targets.append(tag)\n",
    "            #else:\n",
    "                #targets.append('*')\n",
    "    return features,targets"
   ]
  },
  {
   "cell_type": "code",
   "execution_count": 14,
   "metadata": {
    "collapsed": false
   },
   "outputs": [],
   "source": [
    "features,targets=prepara_frase(tags,words)"
   ]
  },
  {
   "cell_type": "code",
   "execution_count": 17,
   "metadata": {
    "collapsed": false
   },
   "outputs": [],
   "source": [
    "#Vectorizer\n",
    "from sklearn.feature_extraction import DictVectorizer\n",
    "from sklearn.externals import joblib\n",
    "vectorizer = DictVectorizer(sparse=False)\n",
    "vectorizer.fit(features)\n",
    "joblib.dump(vectorizer, 'vectorizer.pkl')\n",
    "transformed=vectorizer.transform(features)\n",
    "\n",
    "#Ya acabó el preprocesamiento"
   ]
  },
  {
   "cell_type": "code",
   "execution_count": 18,
   "metadata": {
    "collapsed": false
   },
   "outputs": [
    {
     "name": "stderr",
     "output_type": "stream",
     "text": [
      "/usr/local/lib/python3.5/dist-packages/sklearn/cross_validation.py:44: DeprecationWarning: This module was deprecated in version 0.18 in favor of the model_selection module into which all the refactored classes and functions are moved. Also note that the interface of the new CV iterators are different from that of this module. This module will be removed in 0.20.\n",
      "  \"This module will be removed in 0.20.\", DeprecationWarning)\n"
     ]
    }
   ],
   "source": [
    "#Separamos train & test\n",
    "from sklearn import cross_validation\n",
    "X_train, X_test, y_train, y_test = cross_validation.train_test_split(transformed, targets, test_size=0.1, random_state=42)"
   ]
  },
  {
   "cell_type": "code",
   "execution_count": 27,
   "metadata": {
    "collapsed": true
   },
   "outputs": [],
   "source": [
    "#entrenando el modelo\n",
    "from sklearn import svm\n",
    "lin_svc = svm.LinearSVC(C=1).fit(X_train, y_train)"
   ]
  },
  {
   "cell_type": "code",
   "execution_count": 28,
   "metadata": {
    "collapsed": false
   },
   "outputs": [
    {
     "name": "stdout",
     "output_type": "stream",
     "text": [
      "181\n",
      "0.961325966851\n"
     ]
    }
   ],
   "source": [
    "#evaluando el modelo\n",
    "from sklearn.metrics import accuracy_score\n",
    "print(len(X_test))\n",
    "print(accuracy_score(y_test, lin_svc.predict(X_test)))"
   ]
  },
  {
   "cell_type": "code",
   "execution_count": 29,
   "metadata": {
    "collapsed": false
   },
   "outputs": [
    {
     "data": {
      "text/plain": [
       "['clasifier.pkl']"
      ]
     },
     "execution_count": 29,
     "metadata": {},
     "output_type": "execute_result"
    }
   ],
   "source": [
    "joblib.dump(lin_svc, 'clasifier.pkl')"
   ]
  },
  {
   "cell_type": "code",
   "execution_count": null,
   "metadata": {
    "collapsed": true
   },
   "outputs": [],
   "source": []
  }
 ],
 "metadata": {
  "kernelspec": {
   "display_name": "Python 3",
   "language": "python",
   "name": "python3"
  },
  "language_info": {
   "codemirror_mode": {
    "name": "ipython",
    "version": 3
   },
   "file_extension": ".py",
   "mimetype": "text/x-python",
   "name": "python",
   "nbconvert_exporter": "python",
   "pygments_lexer": "ipython3",
   "version": "3.5.2"
  }
 },
 "nbformat": 4,
 "nbformat_minor": 2
}
